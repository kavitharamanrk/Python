{
  "nbformat": 4,
  "nbformat_minor": 0,
  "metadata": {
    "colab": {
      "provenance": [],
      "authorship_tag": "ABX9TyMKq+ODF7rAXXqxkhFOk6KK"
    },
    "kernelspec": {
      "name": "python3",
      "display_name": "Python 3"
    },
    "language_info": {
      "name": "python"
    }
  },
  "cells": [
    {
      "cell_type": "markdown",
      "source": [
        "Given a String S,print the number of unique characters in it.If all the characters are duplicated,then print -1.\n",
        "Sample Testcase :\n",
        "INPUT\n",
        "GUVIGEEK\n",
        "OUTPUT\n",
        "4"
      ],
      "metadata": {
        "id": "gF5EXv7HJe4u"
      }
    },
    {
      "cell_type": "code",
      "source": [
        "str1=input()\n",
        "lis1=[sum(1 for i in str1 if str1.count(i)==1) or -1]\n",
        "print(''.join(map(str,lis1)))"
      ],
      "metadata": {
        "id": "nFouJP3PimAR"
      },
      "execution_count": null,
      "outputs": []
    },
    {
      "cell_type": "markdown",
      "source": [
        "Given a number N, find the factorial of N.\n",
        "Input Size : 1 <= N <= 25\n",
        "Sample Testcase :\n",
        "INPUT\n",
        "5\n",
        "OUTPUT\n",
        "120"
      ],
      "metadata": {
        "id": "uxbEf0OwWlsG"
      }
    },
    {
      "cell_type": "code",
      "source": [
        "import math\n",
        "N=int(input())\n",
        "print(math.factorial(N))"
      ],
      "metadata": {
        "id": "HtG2s_ciXNHC"
      },
      "execution_count": null,
      "outputs": []
    },
    {
      "cell_type": "markdown",
      "source": [
        "Given a number N, print the odd factors for the N.\n",
        "Input Size : 1 <= N <= 1000\n",
        "Sample Testcase :\n",
        "INPUT\n",
        "9\n",
        "OUTPUT\n",
        "1 3 9"
      ],
      "metadata": {
        "id": "_5ioHvDWXN0d"
      }
    },
    {
      "cell_type": "code",
      "source": [
        "N=int(input())\n",
        "lis1=[i for i in range(1,N+1) if N%i==0 and i%2!=0]\n",
        "print(''.join(map(str,lis1)))"
      ],
      "metadata": {
        "colab": {
          "base_uri": "https://localhost:8080/"
        },
        "id": "IVi-kM8jXQ3p",
        "outputId": "299e5f59-e44c-4733-cbb5-5ca8ace7745a"
      },
      "execution_count": 7,
      "outputs": [
        {
          "output_type": "stream",
          "name": "stdout",
          "text": [
            "9\n",
            "[1, 3, 5, 7, 9]\n"
          ]
        }
      ]
    }
  ]
}